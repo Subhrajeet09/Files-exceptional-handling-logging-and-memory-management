{
 "cells": [
  {
   "cell_type": "raw",
   "id": "c0d1fd06-9982-4a4d-b5e4-5244ac681d31",
   "metadata": {},
   "source": [
    "Q.1) What is the difference between interpreted and compiled languages?\n",
    " Definition:\n",
    "In interpreted languages, code is executed line by line by an interpreter at runtime.\n",
    "\n",
    "Key Features:\n",
    "\n",
    "No separate compilation step.\n",
    "\n",
    "Easier to debug.\n",
    "\n",
    "Slower execution compared to compiled languages.\n",
    "\n",
    "More flexible and portable.\n",
    "\n",
    "Examples:\n",
    "\n",
    "Python\n",
    "\n",
    "JavaScript\n",
    "\n",
    "Ruby\n",
    "\n",
    "PHP\n",
    "\n",
    "Compiled Languages\n",
    "Definition:\n",
    "In compiled languages, the entire source code is translated into machine code by a compiler before execution.\n",
    "\n",
    "Key Features:\n",
    "\n",
    "Requires a compilation step.\n",
    "\n",
    "Runs faster (after compilation).\n",
    "\n",
    "More optimized performance.\n",
    "\n",
    "Harder to debug (since errors are caught at compile time).\n",
    "\n",
    "Examples:\n",
    "\n",
    "C\n",
    "\n",
    "C++\n",
    "\n",
    "Rust\n",
    "\n",
    "Go"
   ]
  },
  {
   "cell_type": "raw",
   "id": "1f14490f-b38b-4ca4-8c39-f555755bfeca",
   "metadata": {},
   "source": [
    "Q.2) What is exception handling in Python?\n",
    "Exception handling in Python is a way to gracefully manage errors that occur during the execution of a program, without crashing the entire program.\n",
    "Examples:\n",
    "\n",
    "Dividing by zero (ZeroDivisionError)\n",
    "\n",
    "Accessing a non-existent file (FileNotFoundError)\n",
    "\n",
    "Looking up a missing dictionary key (KeyError)"
   ]
  },
  {
   "cell_type": "raw",
   "id": "297598d4-9a91-4919-8088-455e1239a357",
   "metadata": {},
   "source": [
    "Q.3) What is the purpose of the finally block in exception handling?\n",
    "The finally block is used to define code that must run no matter what — whether an exception occurred or not.\n",
    "\n",
    "Key Purpose:\n",
    "Cleanup tasks: Closing a file, releasing resources, disconnecting from a database, etc.\n",
    "\n",
    "Ensures that critical code is always executed, even if there was an error or an early return."
   ]
  },
  {
   "cell_type": "raw",
   "id": "206d31f2-4e36-426e-9d00-e04f964d5d48",
   "metadata": {},
   "source": [
    "Q.4) What is logging in Python?\n",
    "Logging in Python is the process of recording messages (such as errors, warnings, or general info) during the execution of a program. It helps developers track the flow of a program, debug issues, and monitor runtime behavior — especially in production environments."
   ]
  },
  {
   "cell_type": "raw",
   "id": "afb2f9f4-1350-45a6-8cb5-5fe29b80f193",
   "metadata": {},
   "source": [
    "Q.5) What is the significance of the __del__ method in Python?\n",
    "The __del__ method in Python is a destructor — it's a special method that is called when an object is about to be destroyed (i.e., garbage collected).\n",
    "Automatically when an object’s reference count drops to zero, i.e., when it's no longer used anywhere in the program.\n",
    "\n",
    "Useful for cleanup tasks, such as:\n",
    "\n",
    "Closing files\n",
    "\n",
    "Releasing resources\n",
    "\n",
    "Closing network connections"
   ]
  },
  {
   "cell_type": "raw",
   "id": "76b52975-0d2f-4e68-8a5c-94c01f05ef32",
   "metadata": {},
   "source": [
    "Q.6) What is the difference between import and from ... import in Python?\n",
    "In Python, both import and from ... import are used to include code from modules, but they differ in what they import and how you access it:\n",
    "import Statement\n",
    "Imports the entire module.\n",
    "\n",
    "from ... import Statement\n",
    "Imports only specific parts (functions, classes, variables) from a module."
   ]
  },
  {
   "cell_type": "raw",
   "id": "2424c031-a9f4-4d3d-a9a7-5d8a17c8240c",
   "metadata": {},
   "source": [
    "Q.7) How can you handle multiple exceptions in Python?\n",
    "In Python, multiple exceptions can be handled using different approaches to make the program more robust and prevent it from crashing due to unexpected errors.\n",
    "\n",
    "1. Multiple except Blocks\n",
    "You can use separate except blocks for each type of exception. This allows handling each error in a specific way.\n",
    "\n",
    "2. Single except with Multiple Exceptions\n",
    "Multiple exceptions can be grouped into a tuple and handled using a single except block. This is useful when the handling logic is the same for multiple exceptions.\n",
    "\n",
    "3. Generic except Block\n",
    "You can use a generic except block to catch any type of exception. This should be used as a last resort to avoid hiding bugs."
   ]
  },
  {
   "cell_type": "raw",
   "id": "bd16acf8-3d12-4993-92a8-1c039b8ae768",
   "metadata": {},
   "source": [
    "Q.8) What is the purpose of the with statement when handling files in Python?\n",
    "The with statement is used to handle files in Python in a clean and efficient way. Its main purpose is to automatically manage resources, such as opening and closing files, even if an error occurs."
   ]
  },
  {
   "cell_type": "raw",
   "id": "29db0a6f-8620-4a61-a7ed-6427f7d0300d",
   "metadata": {},
   "source": [
    "Q.9) What is the difference between multithreading and multiprocessing?\n",
    "Multithreading involves running multiple threads within the same process. These threads share the same memory space, which makes communication between them easier, but also increases the risk of issues like race conditions. Multithreading is ideal for I/O-bound tasks, such as reading files, making API calls, or waiting for user input. However, due to Python’s Global Interpreter Lock (GIL), threads cannot execute Python bytecode in true parallel when performing CPU-bound operations.\n",
    "\n",
    "Multiprocessing, on the other hand, uses multiple processes, each with its own memory space. This allows true parallelism and is more suitable for CPU-bound tasks like mathematical computations or data processing. Since each process runs independently, it avoids GIL limitations, but comes with more overhead in terms of memory and communication between processes."
   ]
  },
  {
   "cell_type": "raw",
   "id": "09a24747-737f-48f7-ab27-c6a5050ffb1b",
   "metadata": {},
   "source": [
    "Q.10) What are the advantages of using logging in a program?\n",
    "Tracks Execution: Logging helps you understand the flow of your program by recording events during execution, which is useful for debugging and monitoring.\n",
    "\n",
    "Debugging Aid: Instead of using print statements, logs provide detailed information like timestamps, severity levels, and messages, making it easier to diagnose issues.\n",
    "\n",
    "Severity Levels: Logging allows categorizing messages (e.g., DEBUG, INFO, WARNING, ERROR, CRITICAL), helping prioritize what needs attention.\n",
    "\n",
    "Persistent Record: Logs can be saved to files for future analysis, especially useful in production environments.\n",
    "\n",
    "Better than Print Statements: Unlike print(), logs can be easily turned on or off, redirected, or filtered without changing the code structure.\n",
    "\n",
    "Supports Large Applications: Logging is scalable and supports complex applications by helping track issues across different modules or systems.\n",
    "\n",
    "Customizable Output: You can configure log formatting, log file rotation, and log destinations (console, file, remote server)."
   ]
  },
  {
   "cell_type": "raw",
   "id": "b42f3bed-607f-4b19-83da-95441c43becc",
   "metadata": {},
   "source": [
    "Q.11) What is memory management in Python?\n",
    "Memory management in Python refers to the process of efficiently allocating, using, and releasing memory during the execution of a Python program. Python handles memory management automatically, making it easier for developers.\n",
    "Automatic Garbage Collection:\n",
    "\n",
    "Python automatically reclaims memory occupied by objects that are no longer in use.\n",
    "\n",
    "It uses reference counting and a cyclic garbage collector to detect and delete unused objects.\n",
    "\n",
    "Reference Counting:\n",
    "\n",
    "Every object in Python has a reference count that tracks how many references point to it.\n",
    "\n",
    "When the reference count drops to zero, the object is automatically destroyed.\n",
    "\n",
    "Private Heap Space:\n",
    "\n",
    "All Python objects and data structures are stored in a private heap that the Python interpreter manages.\n",
    "\n",
    "This heap is not directly accessible to the programmer.\n",
    "\n",
    "Memory Pools (via PyMalloc):\n",
    "\n",
    "Python uses an internal mechanism called PyMalloc to optimize memory allocation and improve performance by managing small objects more efficiently.\n",
    "\n",
    "Dynamic Typing and Object Reuse:\n",
    "\n",
    "Python is dynamically typed, so variables don’t have fixed types.\n",
    "\n",
    "It also reuses small integers and strings to save memory."
   ]
  },
  {
   "cell_type": "raw",
   "id": "f0687e01-8bce-4e2c-8598-a8a5ed3615c3",
   "metadata": {},
   "source": [
    "Q.12) What are the basic steps involved in exception handling in Python?\n",
    "Use try to wrap risky code.\n",
    "\n",
    "Use except to catch and handle errors.\n",
    "\n",
    "Use else for code that runs if no error occurs.\n",
    "\n",
    "Use finally for code that runs always (cleanup, closing files, etc.)."
   ]
  },
  {
   "cell_type": "raw",
   "id": "82bc00a4-0d6d-47fc-8e27-d77218401d5d",
   "metadata": {},
   "source": [
    "Q.13) Why is memory management important in Python?\n",
    "Memory management is crucial in Python to ensure performance, stability, and scalability, and Python provides tools (like garbage collection, memory profiling, and efficient data structures) to help manage memory effectively."
   ]
  },
  {
   "cell_type": "raw",
   "id": "276a784c-35bd-47b8-87ff-f740bc6c1fb8",
   "metadata": {},
   "source": [
    "Q.14) What is the role of try and except in exception handling?\n",
    "Role of try\n",
    "The try block contains the code that might raise an exception.\n",
    "Python executes this block and monitors it for errors.\n",
    "If no error occurs, the code inside except is skipped.\n",
    "\n",
    "🔹 Role of except\n",
    "If an error (exception) occurs in the try block, control is transferred to the except block.\n",
    "The except block contains code that handles the specific error.\n",
    "It prevents the program from crashing and can show a helpful message or perform an alternative action."
   ]
  },
  {
   "cell_type": "raw",
   "id": "b3aa0cf0-2aa0-4e48-bbd1-e5477c968600",
   "metadata": {},
   "source": [
    "Q.15)  How does Python's garbage collection system work?\n",
    "Python’s garbage collection system is responsible for automatically managing memory by reclaiming unused objects, so developers don’t have to manually free memory like in some other languages (e.g., C or C++).\n",
    "1. Reference Counting (Primary Method)\n",
    "Every object in Python has a reference count — the number of references pointing to it.\n",
    "When the reference count drops to zero, Python knows the object is no longer in use and can immediately delete it.\n",
    "\n",
    "2. Garbage Collector for Circular References\n",
    "Sometimes objects reference each other in a cycle, preventing their reference count from ever reaching zero.\n",
    "Python's gc module can detect such cycles and clean them up.\n",
    "The garbage collector periodically checks for these cycles and removes them.\n",
    "\n",
    "3. Generational Garbage Collection\n",
    "Objects are grouped into three generations:\n",
    "Gen 0: New objects.\n",
    "Gen 1: Survived one collection.\n",
    "Gen 2: Long-lived objects.\n",
    "\n",
    "Frequent collections are done on Gen 0 (cheap and fast), and less frequently on higher generations."
   ]
  },
  {
   "cell_type": "raw",
   "id": "74f1e8af-e0e5-408f-9b23-a01911f6190c",
   "metadata": {},
   "source": [
    "Q.16) What is the purpose of the else block in exception handling?\n",
    "In Python, the else block in exception handling is used to define a block of code that executes only if no exceptions are raised in the try block.\n",
    "The else block lets you separate normal code (that should run only if there’s no error) from the code that might raise an exception."
   ]
  },
  {
   "cell_type": "raw",
   "id": "e6cf5822-6c6d-4c98-a00a-c63d08f2a838",
   "metadata": {},
   "source": [
    "Q.17) What are the common logging levels in Python?\n",
    "Common Logging Levels:\n",
    "i) DEBUG (Level: 10)\n",
    "\n",
    "Used for detailed diagnostic information.\n",
    "\n",
    "Typically used for debugging during development.\n",
    "\n",
    "Example: “Variable x has value 42”\n",
    "\n",
    "ii) INFO (Level: 20)\n",
    "\n",
    "Confirms that things are working as expected.\n",
    "\n",
    "Useful for tracking the flow of the program.\n",
    "\n",
    "Example: “User logged in successfully”\n",
    "\n",
    "iii) WARNING (Level: 30)\n",
    "\n",
    "Indicates something unexpected or suboptimal happened.\n",
    "\n",
    "The program still works, but attention is needed.\n",
    "\n",
    "Example: “Disk space running low”\n",
    "\n",
    "iv) ERROR (Level: 40)\n",
    "\n",
    "Indicates a more serious problem that prevented part of the program from functioning.\n",
    "\n",
    "Example: “Failed to open file”\n",
    "\n",
    "v) CRITICAL (Level: 50)\n",
    "\n",
    "A very serious error that may prevent the program from continuing.\n",
    "\n",
    "Example: “System crash, shutting down”"
   ]
  },
  {
   "cell_type": "raw",
   "id": "9f244827-09d4-4221-84e4-88a774fa4773",
   "metadata": {},
   "source": [
    "Q.18) What is the difference between os.fork() and multiprocessing in Python?\n",
    "✅ os.fork():\n",
    "Definition: Low-level system call that creates a child process by duplicating the current process.\n",
    "\n",
    "Platform: Only works on Unix/Linux systems (not available on Windows).\n",
    "\n",
    "Syntax: pid = os.fork()\n",
    "\n",
    "Behavior:\n",
    "\n",
    "Returns 0 in the child process.\n",
    "\n",
    "Returns the child’s PID in the parent process.\n",
    "\n",
    "Use Case: Useful for low-level process control when you need full control over parent and child logic.\n",
    "\n",
    "Drawback: More complex and error-prone; needs manual handling of communication and resources.\n",
    "\n",
    "✅ multiprocessing module:\n",
    "Definition: High-level API for creating and managing processes.\n",
    "\n",
    "Platform: Cross-platform (works on Windows, macOS, and Linux).\n",
    "\n",
    "Behavior:\n",
    "\n",
    "Spawns new processes with their own Python interpreter.\n",
    "\n",
    "Provides built-in support for communication using Queue, Pipe, etc.\n",
    "\n",
    "Use Case: Preferred way to achieve parallelism in Python, especially when working with CPU-bound tasks.\n",
    "\n",
    "Advantage: Easier, safer, and more readable for managing concurrent tasks."
   ]
  },
  {
   "cell_type": "raw",
   "id": "35a313b9-2977-473a-8a0c-6ac4d0c20fe6",
   "metadata": {},
   "source": [
    "Q.19) What is the importance of closing a file in Python?\n",
    "Always close files after use to avoid:\n",
    "Memory leaks\n",
    "Data loss\n",
    "File corruption\n",
    "Hitting open file limits\n",
    "It's essential for writing reliable and efficient Python programs."
   ]
  },
  {
   "cell_type": "raw",
   "id": "aa56475f-ebb3-46e1-920b-2209e6c07ee5",
   "metadata": {},
   "source": [
    "Q.20) What is the difference between file.read() and file.readline() in Python?\n",
    "Ans   The difference between file.read() and file.readline() in Python lies in how much data they read from a file and how they behave when reading:\n",
    "\n",
    "🔹 file.read()\n",
    "Reads the entire file (or specified number of characters) at once.\n",
    "Returns a single string containing all the file’s contents.\n",
    "Useful when you want to read the whole file at once.\n",
    "\n",
    "🔹 file.readline()\n",
    "Reads one line from the file at a time.\n",
    "Returns that line as a string including the newline character (\\n) if present.\n",
    "Useful for reading large files line by line to save memory."
   ]
  },
  {
   "cell_type": "raw",
   "id": "0f3084af-d0c4-4c6f-8aa4-59c01aa40a07",
   "metadata": {},
   "source": [
    "Q.21) What is the logging module in Python used for?\n",
    "Purpose of the logging Module:\n",
    "i) Record diagnostic messages or errors during program execution.\n",
    "ii) Monitor program flow and behavior without interrupting execution.\n",
    "iii) Write logs to different destinations like the console, files, or even remote servers.\n",
    "iv) Control the level of detail in logs using severity levels (DEBUG, INFO, WARNING, ERROR, CRITICAL)."
   ]
  },
  {
   "cell_type": "raw",
   "id": "d56475f0-61fc-4494-895d-2fc2b8a16d8f",
   "metadata": {},
   "source": [
    "Q.22) What is the os module in Python used for in file handling?\n",
    "The os module in Python is a built-in standard library that provides a way to interact with the operating system. In file handling, the os module is particularly useful for performing various operations related to files and directories.\n",
    "The os module is essential for managing files and directories, especially when building applications that need to:\n",
    "\n",
    "Check file existence\n",
    "Create, rename, or delete files\n",
    "Navigate directories\n",
    "Get metadata about files"
   ]
  },
  {
   "cell_type": "raw",
   "id": "ccf6a567-47ed-4643-854f-fa10ca7747d5",
   "metadata": {},
   "source": [
    "Q.23) What are the challenges associated with memory management in Python?\n",
    "i) Garbage Collection Overhead:\n",
    "Python’s automatic garbage collector can introduce performance overhead, especially in memory-intensive applications.\n",
    "\n",
    "ii) Memory Leaks:\n",
    "Even though Python manages memory automatically, improper use of global variables, circular references, or unused data structures can still lead to memory leaks.\n",
    "\n",
    "iii) Circular References:\n",
    "When two or more objects reference each other, they may not be collected by the garbage collector unless specifically handled, leading to unused memory.\n",
    "\n",
    "iv) Large Object Handling:\n",
    "Python can struggle with very large objects or datasets in memory, especially when using standard data structures like lists or dictionaries.\n",
    "\n",
    "v) Fragmentation:\n",
    "Python’s memory allocator can cause fragmentation, where small gaps in memory cannot be reused efficiently, reducing overall performance.\n",
    "\n",
    "vi) Unpredictable Garbage Collection Timing:\n",
    "The exact timing of garbage collection is not always predictable, which can make memory usage unpredictable in time-sensitive applications.\n",
    "\n",
    "vii) Reference Counting Limitations:\n",
    "Python’s primary memory management strategy is reference counting, which cannot handle circular references by itself, requiring the secondary garbage collection mechanism to clean them up.\n",
    "\n",
    "viii) Third-party Modules:\n",
    "Some third-party C extensions may not follow Python’s memory management rules properly, potentially leading to memory corruption or leaks"
   ]
  },
  {
   "cell_type": "raw",
   "id": "20e4407d-d5b2-49a4-bdbd-1e185db6e791",
   "metadata": {},
   "source": [
    "Q.24) How do you raise an exception manually in Python?\n",
    "In Python, you can manually raise an exception using the raise keyword.\n",
    "raise is used to throw an exception.\n",
    "\n",
    "ValueError is the type of exception being raised.\n",
    "\n",
    "\"Age cannot be negative\" is the custom error message shown when the exception is raised.\n",
    "\n",
    "You can raise built-in exceptions (like ValueError, TypeError, ZeroDivisionError, etc.) or custom exceptions (by creating a class that inherits from Exception)."
   ]
  },
  {
   "cell_type": "raw",
   "id": "f804bfad-ce85-4541-8c15-1ec45e55de31",
   "metadata": {},
   "source": [
    "Q.25) Why is it important to use multithreading in certain applications?\n",
    "Multithreading is important in certain applications because it allows a program to perform multiple tasks at the same time, which improves efficiency and responsiveness. Here’s why it’s useful:\n",
    "\n",
    "🔹 1. Improved Responsiveness\n",
    "In GUI applications or web servers, multithreading ensures the interface doesn't freeze while performing background tasks like file loading or data processing.\n",
    "\n",
    "🔹 2. Better Resource Utilization\n",
    "While one thread is waiting (e.g., for user input or a network response), another can continue processing, keeping the CPU busy.\n",
    "\n",
    "🔹 3. Faster Execution in I/O-bound Programs\n",
    "Programs that spend time waiting on I/O (like reading files or making web requests) benefit from multithreading because threads can continue working while others wait.\n",
    "\n",
    "🔹 4. Simplified Program Structure\n",
    "It can be easier to separate tasks (e.g., one thread for listening to input, another for processing) rather than managing everything in a single loop."
   ]
  },
  {
   "cell_type": "code",
   "execution_count": null,
   "id": "a33bf950-bb65-4e3a-bb01-d9735083bfcd",
   "metadata": {},
   "outputs": [],
   "source": [
    "#Practical questions"
   ]
  },
  {
   "cell_type": "code",
   "execution_count": 4,
   "id": "86e5d0b3-f1fa-4575-8e1a-e72e64fb7989",
   "metadata": {},
   "outputs": [],
   "source": [
    "#Q.1\n",
    "with open(\"file.txt\",\"w\")as f:\n",
    "    f.write(\"How was your day\")"
   ]
  },
  {
   "cell_type": "code",
   "execution_count": null,
   "id": "fc617334-7dc8-4330-9345-869037aef2c2",
   "metadata": {},
   "outputs": [],
   "source": [
    "#Q.2\n",
    "with open(\"reading.txt\")as f:\n",
    "    content=f.read()\n",
    "    print(content)"
   ]
  },
  {
   "cell_type": "code",
   "execution_count": null,
   "id": "49692a6c-9fd9-4434-9ab1-8244b539e93f",
   "metadata": {},
   "outputs": [],
   "source": [
    "#Q.3\n",
    "try:\n",
    "    with open(\"data.txt\")as f:\n",
    "        print(f.read())\n",
    "except FileNotFoundError:\n",
    "    with open(\"data.txt\",\"w\")as f:\n",
    "        f.write(\"This is a new file.\")\n",
    "    print(\"file not found. A new file was created\")"
   ]
  },
  {
   "cell_type": "code",
   "execution_count": null,
   "id": "66911ab6-94d8-49d3-b3df-b2fb26015ec1",
   "metadata": {},
   "outputs": [],
   "source": [
    "#Q.4\n",
    "with open(\"file.txt\")as f:\n",
    "    content=f.read()\n",
    "\n",
    "with open(\"reading.txt\",\"w\")as f:\n",
    "    f.write(content)"
   ]
  },
  {
   "cell_type": "code",
   "execution_count": 11,
   "id": "5ddc9a4c-ca0d-4df1-9289-8ca6cac25ab6",
   "metadata": {},
   "outputs": [
    {
     "name": "stdin",
     "output_type": "stream",
     "text": [
      "enter any number: 5\n"
     ]
    },
    {
     "name": "stdout",
     "output_type": "stream",
     "text": [
      "cannot divide with this number\n"
     ]
    }
   ],
   "source": [
    "#Q.5\n",
    "try:\n",
    "    n=int(input(\"enter any number:\"))\n",
    "    if 8%n==0:\n",
    "        print(f\"this number is divisible by {n}\")\n",
    "    else:\n",
    "        print(\"cannot divide with this number\")\n",
    "except ZeroDivisionError:\n",
    "    print(\"the number cannot be divide by zero\")"
   ]
  },
  {
   "cell_type": "code",
   "execution_count": 12,
   "id": "d1117822-5199-48d9-9d97-da076da171ae",
   "metadata": {},
   "outputs": [
    {
     "name": "stdin",
     "output_type": "stream",
     "text": [
      "Enter numerator:  2\n",
      "Enter denominator:  1\n"
     ]
    },
    {
     "name": "stdout",
     "output_type": "stream",
     "text": [
      "Result: 2.0\n"
     ]
    }
   ],
   "source": [
    "#Q.6\n",
    "import logging\n",
    "\n",
    "logging.basicConfig(filename=\"error.log\", level=logging.ERROR,\n",
    "                    format=\"%(asctime)s - %(levelname)s - %(message)s\")\n",
    "\n",
    "def divide():\n",
    "    try:\n",
    "        a = int(input(\"Enter numerator: \"))\n",
    "        b = int(input(\"Enter denominator: \"))\n",
    "        result = a / b\n",
    "        print(\"Result:\", result)\n",
    "    except ZeroDivisionError:\n",
    "        print(\"Error: Cannot divide by zero.\")\n",
    "        logging.error(\"Attempted division by zero.\")\n",
    "    except ValueError:\n",
    "        print(\"Error: Please enter valid numbers.\")\n",
    "        logging.error(\"Invalid input for division.\")\n",
    "\n",
    "divide()"
   ]
  },
  {
   "cell_type": "code",
   "execution_count": 1,
   "id": "4a5422cc-6b81-433e-98b7-8cb98fe7f1a5",
   "metadata": {},
   "outputs": [
    {
     "name": "stderr",
     "output_type": "stream",
     "text": [
      "DEBUG: This is a DEBUG message.\n",
      "INFO: This is an INFO message.\n",
      "WARNING: This is a WARNING message.\n",
      "ERROR: This is an ERROR message.\n",
      "CRITICAL: This is a CRITICAL message.\n"
     ]
    }
   ],
   "source": [
    "#Q.7\n",
    "import logging\n",
    "logging.basicConfig(level=logging.DEBUG, format='%(levelname)s: %(message)s')\n",
    "\n",
    "logging.debug(\"This is a DEBUG message.\")\n",
    "logging.info(\"This is an INFO message.\")\n",
    "logging.warning(\"This is a WARNING message.\")\n",
    "logging.error(\"This is an ERROR message.\")\n",
    "logging.critical(\"This is a CRITICAL message.\")"
   ]
  },
  {
   "cell_type": "code",
   "execution_count": null,
   "id": "09f309d8-b418-4350-8f3f-ebe3f59ee872",
   "metadata": {},
   "outputs": [],
   "source": [
    "#Q.8\n",
    "a=input(\"enter file name you want to open:\")\n",
    "\n",
    "try:\n",
    "    with open(a)as f:\n",
    "        content=f.read()\n",
    "        print(content)\n",
    "\n",
    "except FileNotFoundError:\n",
    "    print(f\"file {a} not found\")\n",
    "\n",
    "except PermissionError:\n",
    "    print(f\"file {a} need permission to read\")\n",
    "\n",
    "except Exception as e:\n",
    "    print(f\"An unexpected error occurred:{e}\")"
   ]
  },
  {
   "cell_type": "code",
   "execution_count": null,
   "id": "99cbdd7b-e4c5-4097-b758-5ebf9715b107",
   "metadata": {},
   "outputs": [],
   "source": [
    "#Q.9\n",
    "list1=[]\n",
    "with open(\"file.txt\")as f:\n",
    "    content=f.readlines()\n",
    "    list1.extend(content)\n",
    "\n",
    "print(list1)"
   ]
  },
  {
   "cell_type": "code",
   "execution_count": null,
   "id": "9bde50a1-81ac-4d41-a6b7-6637b5f3f1db",
   "metadata": {},
   "outputs": [],
   "source": [
    "#Q.10\n",
    "content='New line is added'\n",
    "with open('learn.txt','a')as f:\n",
    "    f.write(content)"
   ]
  },
  {
   "cell_type": "code",
   "execution_count": null,
   "id": "1ea4257b-6271-45af-8252-7727027245c9",
   "metadata": {},
   "outputs": [],
   "source": [
    "#Q.11\n",
    "dict1={\n",
    "    'Name':'Shubh',\n",
    "    'City':'Delhi',\n",
    "    'Age':24\n",
    "}\n",
    "w=input(\"search:\").title()\n",
    "try:\n",
    "    print(dict1[w])\n",
    "\n",
    "except KeyError:\n",
    "    print(f\"Error no record found for {w}\")"
   ]
  },
  {
   "cell_type": "code",
   "execution_count": 2,
   "id": "cc90c462-c46f-4c2c-a4cb-a73f177b9e33",
   "metadata": {},
   "outputs": [
    {
     "name": "stdin",
     "output_type": "stream",
     "text": [
      "enter 1st number: 5\n",
      "enter 2nd number: 1\n"
     ]
    },
    {
     "name": "stdout",
     "output_type": "stream",
     "text": [
      "5.0\n"
     ]
    }
   ],
   "source": [
    "#Q.12\n",
    "try:\n",
    "    x=int(input(\"enter 1st number:\"))\n",
    "    y=int(input(\"enter 2nd number:\"))\n",
    "    print(x/y)\n",
    "\n",
    "except ZeroDivisionError:\n",
    "    print(\"cannot divide by zero\")\n",
    "    \n",
    "except ValueError:\n",
    "    print(\"invalid integer\")\n",
    "\n",
    "except Exception as e:\n",
    "    print(\"an unexpected error occurred\",e)"
   ]
  },
  {
   "cell_type": "code",
   "execution_count": null,
   "id": "95659f0c-a8cd-4467-90a3-76ffcc5f459c",
   "metadata": {},
   "outputs": [],
   "source": [
    "#Q.13\n",
    "import os\n",
    "\n",
    "filename = input(\"Enter file name:\")\n",
    "\n",
    "if os.path.exists(filename):\n",
    "    with open(filename, 'r') as f:\n",
    "        content = f.read()\n",
    "        print(content)\n",
    "else:\n",
    "    print(f\"File '{filename}' does not exist.\")"
   ]
  },
  {
   "cell_type": "code",
   "execution_count": 3,
   "id": "ea3ceedc-4151-44a2-b16c-bdd6b474f501",
   "metadata": {},
   "outputs": [
    {
     "name": "stderr",
     "output_type": "stream",
     "text": [
      "INFO: Attempting to divide 10 by 2\n",
      "INFO: Division successful: 10 / 2 = 5.0\n",
      "INFO: Attempting to divide 5 by 0\n",
      "ERROR: Division by zero attempted!\n",
      "Traceback (most recent call last):\n",
      "  File \"C:\\Users\\bishw\\AppData\\Local\\Temp\\ipykernel_39348\\128409972.py\", line 16, in divide\n",
      "    result = a / b\n",
      "             ~~^~~\n",
      "ZeroDivisionError: division by zero\n"
     ]
    }
   ],
   "source": [
    "#Q.14\n",
    "import logging\n",
    "\n",
    "logging.basicConfig(\n",
    "    level=logging.INFO,\n",
    "    format='%(asctime)s - %(levelname)s - %(message)s',\n",
    "    handlers=[\n",
    "        logging.StreamHandler(),\n",
    "        logging.FileHandler('app.log', mode='w')\n",
    "    ]\n",
    ")\n",
    "\n",
    "def divide(a, b):\n",
    "    logging.info(f\"Attempting to divide {a} by {b}\")\n",
    "    try:\n",
    "        result = a / b\n",
    "        logging.info(f\"Division successful: {a} / {b} = {result}\")\n",
    "        return result\n",
    "    except ZeroDivisionError as e:\n",
    "        logging.error(\"Division by zero attempted!\", exc_info=e)\n",
    "        return None\n",
    "\n",
    "if __name__ == \"__main__\":\n",
    "    divide(10, 2)\n",
    "    divide(5, 0)\n"
   ]
  },
  {
   "cell_type": "code",
   "execution_count": null,
   "id": "978c3ec5-7384-41d9-aefc-41c2c0944e68",
   "metadata": {},
   "outputs": [],
   "source": [
    "#Q.15\n",
    "filename = input(\"Enter the filename to open: \")\n",
    "\n",
    "try:\n",
    "    with open(filename, 'r') as file:\n",
    "        content = file.read()\n",
    "        if content.strip():  # Check if file is not empty (ignores spaces/newlines)\n",
    "            print(\"File content:\\n\")\n",
    "            print(content)\n",
    "        else:\n",
    "            print(\"The file is empty.\")\n",
    "except FileNotFoundError:\n",
    "    print(f\"File '{filename}' not found.\")\n",
    "except PermissionError:\n",
    "    print(f\"Permission denied: Cannot read the file '{filename}'.\")\n",
    "except Exception as e:\n",
    "    print(f\"An unexpected error occurred: {e}\")"
   ]
  },
  {
   "cell_type": "code",
   "execution_count": 6,
   "id": "038dc23d-3cb5-4171-9268-07ee7d4ea82e",
   "metadata": {},
   "outputs": [
    {
     "name": "stdout",
     "output_type": "stream",
     "text": [
      "ERROR: Could not find file C:\\Users\\bishw\\AppData\\Local\\Temp\\ipykernel_39348\\2794263262.py\n"
     ]
    }
   ],
   "source": [
    "#Q.16\n",
    "from memory_profiler import profile\n",
    "@profile\n",
    "def calculate_squares():\n",
    "    numbers = list(range(10))\n",
    "    squares = [x ** 2 for x in numbers]\n",
    "    return squares\n",
    "\n",
    "if __name__ == \"__main__\":\n",
    "    calculate_squares()"
   ]
  },
  {
   "cell_type": "code",
   "execution_count": null,
   "id": "f08f9d56-f98f-462c-a73c-df20eafebcf0",
   "metadata": {},
   "outputs": [],
   "source": [
    "#Q.17\n",
    "a=input(\"enter numbers with commas:\")\n",
    "\n",
    "list1=[int(a.strip()) for a in a.split(\",\")]\n",
    "\n",
    "for n in list1:\n",
    "    with open(\"list.txt\",\"a\")as f:\n",
    "        f.write(str(n)+\"\\n\")\n",
    "\n",
    "print(\"numbers written successfully in list.txt\")"
   ]
  },
  {
   "cell_type": "code",
   "execution_count": null,
   "id": "aaa4ece1-ab04-4bcf-9751-4022ebbc1d00",
   "metadata": {},
   "outputs": [],
   "source": [
    "#Q.18\n",
    "import logging\n",
    "from logging.handlers import RotatingFileHandler\n",
    "\n",
    "log_handler = RotatingFileHandler(\n",
    "    \"my_app.log\",\n",
    "    maxBytes=1_000_000,  \n",
    "    backupCount=3        \n",
    ")\n",
    "\n",
    "logger = logging.getLogger(\"MyLogger\")\n",
    "logger.setLevel(logging.DEBUG)\n",
    "\n",
    "formatter = logging.Formatter('%(asctime)s - %(levelname)s - %(message)s')\n",
    "log_handler.setFormatter(formatter)\n",
    "\n",
    "logger.addHandler(log_handler)\n",
    "\n",
    "for i in range(10000):\n",
    "    logger.debug(f\"This is debug log entry #{i}\")\n",
    "    logger.info(\"Information message\")\n",
    "    logger.warning(\"Warning message\")\n",
    "    logger.error(\"Error occurred\")"
   ]
  },
  {
   "cell_type": "code",
   "execution_count": null,
   "id": "1c5dac97-4ad5-4a8e-8e10-2e4f05e365e7",
   "metadata": {},
   "outputs": [],
   "source": [
    "#Q.19\n",
    "list1=['shubh',4,True,9.11]\n",
    "dict1={'name':'Shubh',\n",
    "       'age':24,\n",
    "        'city':'New delhi'\n",
    "       }\n",
    "try:\n",
    "    print(list1[4])\n",
    "\n",
    "except IndexError:\n",
    "    print(\"IndexError: List index is out of range\")\n",
    "\n",
    "try:\n",
    "    print(dict1['address'])\n",
    "\n",
    "except KeyError:\n",
    "    print('KeyError: entered keyword is not present in dictionary')"
   ]
  },
  {
   "cell_type": "code",
   "execution_count": null,
   "id": "b53e6aa4-a449-4555-8017-5a25be9563a8",
   "metadata": {},
   "outputs": [],
   "source": [
    "#Q.20\n",
    "with open(\"data.txt\", \"r\") as file:\n",
    "    content = file.read()\n",
    "    print(content)"
   ]
  },
  {
   "cell_type": "code",
   "execution_count": null,
   "id": "1a0ab83e-56e8-4130-bf7a-eeb7eb560bf5",
   "metadata": {},
   "outputs": [],
   "source": [
    "#Q.21\n",
    "word=\"python\"\n",
    "with open(\"reading.txt\")as f:\n",
    "    content=f.read().lower()\n",
    "    n=content.count(word)\n",
    "    print(n,\"times\")"
   ]
  },
  {
   "cell_type": "code",
   "execution_count": null,
   "id": "6d79ad51-e23e-4aa4-858c-b0ee3efeb9f3",
   "metadata": {},
   "outputs": [],
   "source": [
    "#Q.22\n",
    "import os\n",
    "file_name=input(\"enter file name to open:\")\n",
    "if os.path.exists(file_name):\n",
    "    if os.path.getsize(file_name)==0:\n",
    "        print(\"file is empty\")\n",
    "    else:\n",
    "        with open(file_name)as f:\n",
    "            content=f.read()\n",
    "            print(content)\n",
    "else:\n",
    "    print(\"file doesn't exist\")"
   ]
  },
  {
   "cell_type": "code",
   "execution_count": null,
   "id": "27b59c73-cb50-412b-910d-32576e8bae17",
   "metadata": {},
   "outputs": [],
   "source": [
    "#Q.23\n",
    "import logging\n",
    "logging.basicConfig(\n",
    "    filename='file_errors.log',\n",
    "    level=logging.ERROR,\n",
    "    format='%(asctime)s-%(levelname)s-%(message)s'\n",
    ")\n",
    "file_name=input(\"enter file name you want to open:\")\n",
    "\n",
    "try:\n",
    "    with open(file_name)as f:\n",
    "        content=f.read()\n",
    "        print(content)\n",
    "\n",
    "except FileNotFoundError as e:\n",
    "    logging.error(f\"FileNotFoundError {e}\")\n",
    "    print(\"file doesn't exist\")\n",
    "\n",
    "except PermissionError as e:\n",
    "    logging.error(f\"PermissionError {e}\")\n",
    "    print(\"Permission denied\")\n",
    "\n",
    "except Exception as e:\n",
    "    logging.error(f\"Unexpected error {e}\")\n",
    "    print(\"An unexpected error occurred\")"
   ]
  }
 ],
 "metadata": {
  "kernelspec": {
   "display_name": "Python 3 (ipykernel)",
   "language": "python",
   "name": "python3"
  },
  "language_info": {
   "codemirror_mode": {
    "name": "ipython",
    "version": 3
   },
   "file_extension": ".py",
   "mimetype": "text/x-python",
   "name": "python",
   "nbconvert_exporter": "python",
   "pygments_lexer": "ipython3",
   "version": "3.12.7"
  }
 },
 "nbformat": 4,
 "nbformat_minor": 5
}
